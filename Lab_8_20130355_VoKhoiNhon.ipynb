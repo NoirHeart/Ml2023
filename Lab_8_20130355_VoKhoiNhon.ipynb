{
  "nbformat": 4,
  "nbformat_minor": 0,
  "metadata": {
    "colab": {
      "provenance": [],
      "include_colab_link": true
    },
    "kernelspec": {
      "name": "python3",
      "display_name": "Python 3"
    },
    "language_info": {
      "name": "python"
    }
  },
  "cells": [
    {
      "cell_type": "markdown",
      "metadata": {
        "id": "view-in-github",
        "colab_type": "text"
      },
      "source": [
        "<a href=\"https://colab.research.google.com/github/VoKhoiNhon/Ml2023/blob/main/Lab_8_20130355_VoKhoiNhon.ipynb\" target=\"_parent\"><img src=\"https://colab.research.google.com/assets/colab-badge.svg\" alt=\"Open In Colab\"/></a>"
      ]
    },
    {
      "cell_type": "markdown",
      "source": [
        "# This lab deals with **GridSearchCV** for tuning the hyper-parameters of an estimator and applying vectorization techniques to the **movie reviews dataset** for classification task. \n",
        "\n",
        "*   **Deadline: 23:59, 17/4/2023**\n",
        "\n"
      ],
      "metadata": {
        "id": "LMzehe0sy5wr"
      }
    },
    {
      "cell_type": "markdown",
      "source": [
        "# Import libraries"
      ],
      "metadata": {
        "id": "H4nJmxp9zGX4"
      }
    },
    {
      "cell_type": "code",
      "execution_count": 4,
      "metadata": {
        "id": "DoVWQ8AEyc-C"
      },
      "outputs": [],
      "source": [
        "# code\n",
        "from sklearn.utils.fixes import sklearn\n",
        "# from google.colab import drive\n",
        "# drive.mount('/content/gdrive')\n",
        "# %cd '/content/gdrive/MyDrive/ML'\n",
        "from sklearn import datasets\n",
        "from sklearn import svm \n",
        "from sklearn import metrics as m\n",
        "from sklearn import tree \n",
        "from sklearn.linear_model import LogisticRegression\n",
        "from sklearn.model_selection import train_test_split as tts\n",
        "from sklearn.model_selection import cross_validate\n",
        "from sklearn.model_selection import KFold\n",
        "from sklearn.model_selection import cross_val_score\n",
        "from prettytable import PrettyTable\n",
        "from sklearn.preprocessing import StandardScaler\n",
        "from sklearn.neighbors import KNeighborsClassifier as knc\n",
        "import matplotlib.pyplot as plt\n",
        "import pandas as pd\n",
        "import numpy as np\n",
        "import scipy.cluster.hierarchy as sch\n",
        "from scipy.stats import mode\n",
        "from sklearn.cluster import KMeans, AgglomerativeClustering\n",
        "from sklearn.ensemble import RandomForestClassifier \n",
        "from sklearn.naive_bayes import MultinomialNB \n",
        "from sklearn import feature_selection\n",
        "from sklearn.preprocessing import OneHotEncoder\n",
        "from sklearn.naive_bayes import GaussianNB\n",
        "from sklearn.naive_bayes import BernoulliNB\n",
        "from sklearn.preprocessing import MinMaxScaler\n",
        "from sklearn.feature_selection import SelectKBest,chi2\n",
        "from sklearn.model_selection import GridSearchCV\n",
        "import os"
      ]
    },
    {
      "cell_type": "markdown",
      "source": [
        "#Task 1. With **iris** dataset\n",
        "*  1.1. Apply **GridSearchCV** for **SVM** to find the best hyperparameters using the following param_grid.\n",
        "\n",
        "```\n",
        "param_grid = {'C': [0.1, 1, 10, 100, 1000],\n",
        "              'gamma': [1, 0.1, 0.01, 0.001, 0.0001],\n",
        "              'kernel': ['rbf','linear']}\n",
        "```\n",
        "\n",
        "\n"
      ],
      "metadata": {
        "id": "x_dG9SA5OhGT"
      }
    },
    {
      "cell_type": "code",
      "source": [
        "#code\n",
        "SVM= ['svm']\n",
        "data=datasets.load_iris()\n",
        "X_train,x_test, y_train, y_test = tts(data['data'], data['target'], test_size=0.3, random_state=1)\n",
        "param_grid = {'C': [0.1, 1, 10, 100, 1000],\n",
        "              'gamma': [1, 0.1, 0.01, 0.001, 0.0001],\n",
        "              'kernel': ['rbf','linear']}\n",
        "clf= svm.SVC()\n",
        "# scoring=['accuracy', 'f1_macro']\n",
        "gs_CV=GridSearchCV(estimator=clf, param_grid=param_grid,scoring='precision_macro', n_jobs=-1, refit=True, return_train_score=True, cv= 10)\n",
        "gs_CV.fit(X_train, y_train)\n",
        "y_predict=gs_CV.predict(x_test)\n",
        "print(gs_CV.best_params_)\n",
        "print(gs_CV.best_estimator_)\n",
        "print(y_predict)\n",
        "print(gs_CV.best_score_)\n",
        "ac = m.accuracy_score(y_test, y_predict)\n",
        "ps = m.precision_score(y_test, y_predict, average='macro')\n",
        "rs = m.recall_score(y_test, y_predict, average='macro')\n",
        "fs = m.f1_score(y_test, y_predict, average='macro')\n",
        "SVM.append(str(round(ac,2)))\n",
        "SVM.append(str(round(ps,2)))\n",
        "SVM.append(str(round(rs,2)))\n",
        "SVM.append(str(round(fs,2)))\n",
        "SVM.append(str(round(gs_CV.best_score_,2)))\n",
        "print('Accuracy:',ac)\n",
        "print('Precision:',ps)\n",
        "print('Recall:',rs)\n",
        "print('F1:',fs)\n",
        "\n"
      ],
      "metadata": {
        "id": "62jExOZ952fF",
        "colab": {
          "base_uri": "https://localhost:8080/"
        },
        "outputId": "b2886709-73da-43e4-c723-75b8025fd0c4"
      },
      "execution_count": null,
      "outputs": [
        {
          "output_type": "stream",
          "name": "stdout",
          "text": [
            "{'C': 1, 'gamma': 1, 'kernel': 'linear'}\n",
            "SVC(C=1, gamma=1, kernel='linear')\n",
            "[0 1 1 0 2 1 2 0 0 2 1 0 2 1 1 0 1 1 0 0 1 1 1 0 2 1 0 0 1 2 1 2 1 2 2 0 1\n",
            " 0 1 2 2 0 2 2 1]\n",
            "0.9866666666666667\n",
            "Accuracy: 1.0\n",
            "Precision: 1.0\n",
            "Recall: 1.0\n",
            "F1: 1.0\n"
          ]
        }
      ]
    },
    {
      "cell_type": "markdown",
      "source": [
        "*  1.2. Apply **GridSearchCV** for **kNN** to find the best hyperparameters using the following param_grid.\n",
        "\n",
        "```\n",
        "grid_params = { 'n_neighbors' : [5,7,9,11,13,15],\n",
        "               'weights' : ['uniform','distance'],\n",
        "               'metric' : ['minkowski','euclidean','manhattan']}\n",
        "```\n",
        "where\n",
        "\n",
        "    *  **n_neighbors**: Decide the best k based on the values we have computed earlier.\n",
        "    *  **weights**: Check whether adding weights to the data points is beneficial to the model or not. 'uniform' assigns no weight, while 'distance' weighs points by the inverse of their distances meaning nearer points will have more weight than the farther points.\n",
        "    *  **metric**: The distance metric to be used will calculating the similarity.\n"
      ],
      "metadata": {
        "id": "2g--8cng53sY"
      }
    },
    {
      "cell_type": "code",
      "source": [
        "#code\n",
        "grid_params = { 'n_neighbors' : [5,7,9,11,13,15],\n",
        "               'weights' : ['uniform','distance'],\n",
        "               'metric' : ['minkowski','euclidean','manhattan']}\n",
        "clf= knc()\n",
        "KNN=['KNN']\n",
        "gs_CV=GridSearchCV(estimator=clf, param_grid=grid_params,scoring='accuracy', n_jobs=-1, refit=True, return_train_score=True, cv= 10)\n",
        "gs_CV.fit(X_train, y_train)\n",
        "y_predict=gs_CV.predict(x_test)\n",
        "print(gs_CV.best_params_)\n",
        "print(gs_CV.best_estimator_)\n",
        "print(y_predict)\n",
        "print(gs_CV.best_score_)\n",
        "ac = m.accuracy_score(y_test, y_predict)\n",
        "ps = m.precision_score(y_test, y_predict, average='macro')\n",
        "rs = m.recall_score(y_test, y_predict, average='macro')\n",
        "fs = m.f1_score(y_test, y_predict, average='macro')\n",
        "KNN.append(str(round(ac,2)))\n",
        "KNN.append(str(round(ps,2)))\n",
        "KNN.append(str(round(rs,2)))\n",
        "KNN.append(str(round(fs,2)))\n",
        "KNN.append(str(round(gs_CV.best_score_,2)))\n",
        "print('Accuracy:',ac)\n",
        "print('Precision:',ps)\n",
        "print('Recall:',rs)\n",
        "print('F1:',fs)"
      ],
      "metadata": {
        "id": "fX0_kItYPism",
        "colab": {
          "base_uri": "https://localhost:8080/"
        },
        "outputId": "4dd0beb2-eb22-4108-e0e7-f6ad83f5023b"
      },
      "execution_count": null,
      "outputs": [
        {
          "output_type": "stream",
          "name": "stdout",
          "text": [
            "{'metric': 'minkowski', 'n_neighbors': 9, 'weights': 'distance'}\n",
            "KNeighborsClassifier(n_neighbors=9, weights='distance')\n",
            "[0 1 1 0 2 1 2 0 0 2 1 0 2 1 1 0 1 1 0 0 1 1 2 0 2 1 0 0 1 2 1 2 1 2 2 0 1\n",
            " 0 1 2 2 0 1 2 1]\n",
            "0.9709090909090909\n",
            "Accuracy: 0.9555555555555556\n",
            "Precision: 0.9558404558404558\n",
            "Recall: 0.9558404558404558\n",
            "F1: 0.9558404558404558\n"
          ]
        }
      ]
    },
    {
      "cell_type": "markdown",
      "source": [
        "*  1.3. Apply **GridSearchCV** for **Random Forest** to find the best hyperparameters using the following param_grid.\n",
        "\n",
        "```\n",
        "param_grid = {\n",
        "    'n_estimators': [25, 50, 100, 150],\n",
        "    'max_features': ['sqrt', 'log2', None],\n",
        "    'max_depth': [3, 6, 9],\n",
        "    'max_leaf_nodes': [3, 6, 9],\n",
        "}\n",
        "```"
      ],
      "metadata": {
        "id": "3lQSOcjL_TIW"
      }
    },
    {
      "cell_type": "code",
      "source": [
        "#code\n",
        "param_grid = {\n",
        "    'n_estimators': [25, 50, 100, 150],\n",
        "    'max_features': ['sqrt', 'log2', None],\n",
        "    'max_depth': [3, 6, 9],\n",
        "    'max_leaf_nodes': [3, 6, 9],\n",
        "}\n",
        "RF=['RandomForest']\n",
        "clf= RandomForestClassifier()\n",
        "gs_CV=GridSearchCV(estimator=clf, param_grid=param_grid,scoring='accuracy', n_jobs=-1, refit=True, return_train_score=True, cv= 10)\n",
        "gs_CV.fit(X_train, y_train)\n",
        "y_predict=gs_CV.predict(x_test)\n",
        "print(gs_CV.best_params_)\n",
        "print(gs_CV.best_estimator_)\n",
        "print(y_predict)\n",
        "print(gs_CV.best_score_)\n",
        "ac = m.accuracy_score(y_test, y_predict)\n",
        "ps = m.precision_score(y_test, y_predict, average='macro')\n",
        "rs = m.recall_score(y_test, y_predict, average='macro')\n",
        "fs = m.f1_score(y_test, y_predict, average='macro')\n",
        "RF.append(str(round(ac,2)))\n",
        "RF.append(str(round(ps,2)))\n",
        "RF.append(str(round(rs,2)))\n",
        "RF.append(str(round(fs,2)))\n",
        "RF.append(str(round(gs_CV.best_score_,2)))\n",
        "print('Accuracy:',ac)\n",
        "print('Precision:',ps)\n",
        "print('Recall:',rs)\n",
        "print('F1:',fs)"
      ],
      "metadata": {
        "id": "OlyF9WpN_01p",
        "colab": {
          "base_uri": "https://localhost:8080/"
        },
        "outputId": "2cbe0ca0-effe-41aa-d5e3-3395e928a054"
      },
      "execution_count": null,
      "outputs": [
        {
          "output_type": "stream",
          "name": "stdout",
          "text": [
            "{'max_depth': 3, 'max_features': None, 'max_leaf_nodes': 6, 'n_estimators': 100}\n",
            "RandomForestClassifier(max_depth=3, max_features=None, max_leaf_nodes=6)\n",
            "[0 1 1 0 2 1 2 0 0 2 1 0 2 1 1 0 1 1 0 0 1 1 2 0 2 1 0 0 1 2 1 2 1 2 2 0 1\n",
            " 0 1 2 2 0 1 2 1]\n",
            "0.9609090909090909\n",
            "Accuracy: 0.9555555555555556\n",
            "Precision: 0.9558404558404558\n",
            "Recall: 0.9558404558404558\n",
            "F1: 0.9558404558404558\n"
          ]
        }
      ]
    },
    {
      "cell_type": "markdown",
      "source": [
        "*   1.4 Compare the best obtained results from 1.1 to 1.3 (use PrettyTable to dispaly the results)"
      ],
      "metadata": {
        "id": "G3N7TD7s_3Kp"
      }
    },
    {
      "cell_type": "code",
      "source": [
        "t = PrettyTable([' ', 'Acc', 'Pre', 'Recall', 'F1','GridSearchCVBestScore'])\n",
        "t.add_row(SVM)\n",
        "t.add_row(KNN)\n",
        "t.add_row(RF)\n",
        "print(t)\n",
        "print(m.classification_report(y_test, y_predict))"
      ],
      "metadata": {
        "colab": {
          "base_uri": "https://localhost:8080/"
        },
        "id": "ksCdzDt3gQh9",
        "outputId": "7070263b-34ff-4992-8288-90d191e89924"
      },
      "execution_count": null,
      "outputs": [
        {
          "output_type": "stream",
          "name": "stdout",
          "text": [
            "+--------------+------+------+--------+------+-----------------------+\n",
            "|              | Acc  | Pre  | Recall |  F1  | GridSearchCVBestScore |\n",
            "+--------------+------+------+--------+------+-----------------------+\n",
            "|     svm      | 1.0  | 1.0  |  1.0   | 1.0  |          0.99         |\n",
            "|     KNN      | 0.96 | 0.96 |  0.96  | 0.96 |          0.97         |\n",
            "| RandomForest | 0.96 | 0.96 |  0.96  | 0.96 |          0.96         |\n",
            "+--------------+------+------+--------+------+-----------------------+\n",
            "              precision    recall  f1-score   support\n",
            "\n",
            "           0       1.00      1.00      1.00        14\n",
            "           1       0.94      0.94      0.94        18\n",
            "           2       0.92      0.92      0.92        13\n",
            "\n",
            "    accuracy                           0.96        45\n",
            "   macro avg       0.96      0.96      0.96        45\n",
            "weighted avg       0.96      0.96      0.96        45\n",
            "\n"
          ]
        }
      ]
    },
    {
      "cell_type": "markdown",
      "source": [
        "#Task 2. \n",
        "For breast cancer dataset (https://tinyurl.com/3vme8hr3) which could be loaded from datasets in sklearn as follows:\n",
        "\n",
        "```\n",
        "#Import scikit-learn dataset library\n",
        "from sklearn import datasets\n",
        "\n",
        "#Load dataset\n",
        "cancer = datasets.load_breast_cancer()\n",
        "```\n",
        "\n",
        "*   Apply **GridSearchCV** to different classification algorithms such as **SVM, kNN, LogisticRegression, RandomForest**.\n",
        "*   Compare the results obtained by the best hyperparameters among classification algorithms."
      ],
      "metadata": {
        "id": "kNv07ARGzOUm"
      }
    },
    {
      "cell_type": "code",
      "source": [
        "data=datasets.load_breast_cancer()\n",
        "X_train,x_test, y_train, y_test = tts(data['data'], data['target'], test_size=0.3, random_state=1)"
      ],
      "metadata": {
        "id": "meihmRXrpwfA"
      },
      "execution_count": 3,
      "outputs": []
    },
    {
      "cell_type": "markdown",
      "source": [
        "*   2.1. Apply **GridSearchCV** to **SVM** \n"
      ],
      "metadata": {
        "id": "pnoVB8J4vV36"
      }
    },
    {
      "cell_type": "code",
      "source": [
        "# code\n",
        "SVM= ['svm']\n",
        "param_grid = {'C': [0.1, 1, 10, 100, 1000],\n",
        "              'gamma': [1, 0.1, 0.01, 0.001, 0.0001],\n",
        "              'kernel': ['rbf','linear']}\n",
        "clf= svm.SVC()\n",
        "# scoring=['accuracy', 'f1_macro']\n",
        "gs_CV=GridSearchCV(estimator=clf, param_grid=param_grid,scoring='precision_macro', n_jobs=-1, refit=True, return_train_score=True, cv= 10)\n",
        "gs_CV.fit(X_train, y_train)\n",
        "y_predict=gs_CV.predict(x_test)\n",
        "print(gs_CV.best_params_)\n",
        "print(gs_CV.best_estimator_)\n",
        "print(y_predict)\n",
        "print(gs_CV.best_score_)\n",
        "ac = m.accuracy_score(y_test, y_predict)\n",
        "ps = m.precision_score(y_test, y_predict, average='macro')\n",
        "rs = m.recall_score(y_test, y_predict, average='macro')\n",
        "fs = m.f1_score(y_test, y_predict, average='macro')\n",
        "SVM.append(str(round(ac,2)))\n",
        "SVM.append(str(round(ps,2)))\n",
        "SVM.append(str(round(rs,2)))\n",
        "SVM.append(str(round(fs,2)))\n",
        "SVM.append(str(round(gs_CV.best_score_,2)))\n",
        "print('Accuracy:',ac)\n",
        "print('Precision:',ps)\n",
        "print('Recall:',rs)\n",
        "print('F1:',fs)\n"
      ],
      "metadata": {
        "id": "-ZTSvsJdvYqI",
        "colab": {
          "base_uri": "https://localhost:8080/"
        },
        "outputId": "9c2298e9-7e1f-4e8e-f2c4-485dea81f95d"
      },
      "execution_count": null,
      "outputs": [
        {
          "output_type": "stream",
          "name": "stdout",
          "text": [
            "{'C': 10, 'gamma': 1, 'kernel': 'linear'}\n",
            "SVC(C=10, gamma=1, kernel='linear')\n",
            "[1 0 1 0 0 0 0 0 1 1 1 0 0 1 0 1 1 1 1 0 1 1 0 1 0 1 1 0 0 0 0 1 0 0 1 1 0\n",
            " 1 1 1 1 1 1 1 1 0 1 1 1 0 0 0 1 1 1 1 1 0 1 1 1 0 1 1 1 1 1 0 1 1 1 1 1 0\n",
            " 1 0 1 1 1 0 1 0 1 0 1 1 0 1 0 1 1 0 1 1 0 0 1 1 1 1 1 1 1 1 1 1 1 1 0 0 0\n",
            " 1 1 1 0 0 1 1 1 1 1 0 0 1 1 0 0 0 0 0 1 1 1 0 1 0 0 1 1 0 0 0 1 0 1 0 1 1\n",
            " 1 0 1 1 1 1 1 1 1 1 1 1 1 1 1 0 1 1 0 0 0 1 1]\n",
            "0.9519214968038497\n",
            "Accuracy: 0.9532163742690059\n",
            "Precision: 0.952682563338301\n",
            "Recall: 0.9464285714285714\n",
            "F1: 0.9493933116306599\n"
          ]
        }
      ]
    },
    {
      "cell_type": "markdown",
      "source": [
        "*   2.2. Apply **GridSearchCV** to **kNN** "
      ],
      "metadata": {
        "id": "ol1U_T_NvcqV"
      }
    },
    {
      "cell_type": "code",
      "source": [
        "#code\n",
        "grid_params = { 'n_neighbors' : [5,7,9,11,13,15],\n",
        "               'weights' : ['uniform','distance'],\n",
        "               'metric' : ['minkowski','euclidean','manhattan']}\n",
        "clf= knc()\n",
        "KNN=['KNN']\n",
        "gs_CV=GridSearchCV(estimator=clf, param_grid=grid_params,scoring='accuracy', n_jobs=-1, refit=True, return_train_score=True, cv= 10)\n",
        "gs_CV.fit(X_train, y_train)\n",
        "y_predict=gs_CV.predict(x_test)\n",
        "print(gs_CV.best_params_)\n",
        "print(gs_CV.best_estimator_)\n",
        "print(y_predict)\n",
        "print(gs_CV.best_score_)\n",
        "ac = m.accuracy_score(y_test, y_predict)\n",
        "ps = m.precision_score(y_test, y_predict, average='macro')\n",
        "rs = m.recall_score(y_test, y_predict, average='macro')\n",
        "fs = m.f1_score(y_test, y_predict, average='macro')\n",
        "KNN.append(str(round(ac,2)))\n",
        "KNN.append(str(round(ps,2)))\n",
        "KNN.append(str(round(rs,2)))\n",
        "KNN.append(str(round(fs,2)))\n",
        "KNN.append(str(round(gs_CV.best_score_,2)))\n",
        "print('Accuracy:',ac)\n",
        "print('Precision:',ps)\n",
        "print('Recall:',rs)\n",
        "print('F1:',fs)"
      ],
      "metadata": {
        "id": "kt71yrAoBwYE",
        "colab": {
          "base_uri": "https://localhost:8080/"
        },
        "outputId": "0f9dfb45-eb91-43c9-fcea-3837919dcc96"
      },
      "execution_count": null,
      "outputs": [
        {
          "output_type": "stream",
          "name": "stdout",
          "text": [
            "{'metric': 'manhattan', 'n_neighbors': 13, 'weights': 'uniform'}\n",
            "KNeighborsClassifier(metric='manhattan', n_neighbors=13)\n",
            "[1 1 1 0 0 0 0 0 1 1 1 0 0 1 1 1 1 1 1 0 1 1 0 1 0 1 1 0 0 0 0 1 0 0 1 1 0\n",
            " 1 1 1 1 1 1 1 1 0 1 1 1 0 0 0 1 1 1 1 1 0 1 1 1 1 1 0 1 1 1 0 1 1 1 1 0 0\n",
            " 1 0 1 1 1 0 1 0 1 0 1 1 0 1 0 1 1 0 1 1 0 1 1 1 1 1 1 1 1 1 1 1 1 1 0 0 1\n",
            " 1 1 1 0 0 1 1 1 1 1 0 0 1 1 0 0 0 0 0 1 1 1 0 1 0 0 0 1 1 0 0 1 0 1 0 1 1\n",
            " 1 0 1 1 1 1 1 1 1 1 1 1 1 1 1 0 1 1 0 0 0 1 1]\n",
            "0.9371153846153847\n",
            "Accuracy: 0.935672514619883\n",
            "Precision: 0.9387397009459872\n",
            "Recall: 0.9226190476190477\n",
            "F1: 0.9296585767174002\n"
          ]
        }
      ]
    },
    {
      "cell_type": "markdown",
      "source": [],
      "metadata": {
        "id": "VPXL1-6nDhBn"
      }
    },
    {
      "cell_type": "markdown",
      "source": [
        "*   2.3. Apply **GridSearchCV** to **LogisticRegression** "
      ],
      "metadata": {
        "id": "pPkAvse-BxNa"
      }
    },
    {
      "cell_type": "code",
      "source": [
        "#code\n",
        "param_grid = {'C': [0.1, 1, 10, 100, 1000],\n",
        "              'solver' : ['lbfgs', 'liblinear', 'newton-cg', 'newton-cholesky', 'sag', 'saga'],\n",
        "              'penalty' : ['l1', 'l2', 'elasticnet' ]}\n",
        "LR=['LogisticRegression']\n",
        "clf= LogisticRegression(max_iter=100000)\n",
        "gs_CV=GridSearchCV(estimator=clf, param_grid=param_grid,scoring='accuracy', n_jobs=-1, refit=True, return_train_score=True, cv= 10)\n",
        "gs_CV.fit(X_train, y_train)\n",
        "y_predict=gs_CV.predict(x_test)\n",
        "print(gs_CV.best_params_)\n",
        "print(gs_CV.best_estimator_)\n",
        "print(y_predict)\n",
        "print(gs_CV.best_score_)\n",
        "ac = m.accuracy_score(y_test, y_predict)\n",
        "ps = m.precision_score(y_test, y_predict, average='macro')\n",
        "rs = m.recall_score(y_test, y_predict, average='macro')\n",
        "fs = m.f1_score(y_test, y_predict, average='macro')\n",
        "LR.append(str(round(ac,2)))\n",
        "LR.append(str(round(ps,2)))\n",
        "LR.append(str(round(rs,2)))\n",
        "LR.append(str(round(fs,2)))\n",
        "LR.append(str(round(gs_CV.best_score_,2)))\n",
        "print('Accuracy:',ac)\n",
        "print('Precision:',ps)\n",
        "print('Recall:',rs)\n",
        "print('F1:',fs)"
      ],
      "metadata": {
        "id": "nyYjpHFbB1Ci",
        "colab": {
          "base_uri": "https://localhost:8080/"
        },
        "outputId": "eea1d300-cf3b-4b95-99dd-d6a9536b0b63"
      },
      "execution_count": 4,
      "outputs": [
        {
          "output_type": "stream",
          "name": "stderr",
          "text": [
            "/usr/local/lib/python3.9/dist-packages/sklearn/model_selection/_validation.py:378: FitFailedWarning: \n",
            "500 fits failed out of a total of 900.\n",
            "The score on these train-test partitions for these parameters will be set to nan.\n",
            "If these failures are not expected, you can try to debug them by setting error_score='raise'.\n",
            "\n",
            "Below are more details about the failures:\n",
            "--------------------------------------------------------------------------------\n",
            "50 fits failed with the following error:\n",
            "Traceback (most recent call last):\n",
            "  File \"/usr/local/lib/python3.9/dist-packages/sklearn/model_selection/_validation.py\", line 686, in _fit_and_score\n",
            "    estimator.fit(X_train, y_train, **fit_params)\n",
            "  File \"/usr/local/lib/python3.9/dist-packages/sklearn/linear_model/_logistic.py\", line 1162, in fit\n",
            "    solver = _check_solver(self.solver, self.penalty, self.dual)\n",
            "  File \"/usr/local/lib/python3.9/dist-packages/sklearn/linear_model/_logistic.py\", line 54, in _check_solver\n",
            "    raise ValueError(\n",
            "ValueError: Solver lbfgs supports only 'l2' or 'none' penalties, got l1 penalty.\n",
            "\n",
            "--------------------------------------------------------------------------------\n",
            "50 fits failed with the following error:\n",
            "Traceback (most recent call last):\n",
            "  File \"/usr/local/lib/python3.9/dist-packages/sklearn/model_selection/_validation.py\", line 686, in _fit_and_score\n",
            "    estimator.fit(X_train, y_train, **fit_params)\n",
            "  File \"/usr/local/lib/python3.9/dist-packages/sklearn/linear_model/_logistic.py\", line 1162, in fit\n",
            "    solver = _check_solver(self.solver, self.penalty, self.dual)\n",
            "  File \"/usr/local/lib/python3.9/dist-packages/sklearn/linear_model/_logistic.py\", line 54, in _check_solver\n",
            "    raise ValueError(\n",
            "ValueError: Solver newton-cg supports only 'l2' or 'none' penalties, got l1 penalty.\n",
            "\n",
            "--------------------------------------------------------------------------------\n",
            "50 fits failed with the following error:\n",
            "Traceback (most recent call last):\n",
            "  File \"/usr/local/lib/python3.9/dist-packages/sklearn/model_selection/_validation.py\", line 686, in _fit_and_score\n",
            "    estimator.fit(X_train, y_train, **fit_params)\n",
            "  File \"/usr/local/lib/python3.9/dist-packages/sklearn/linear_model/_logistic.py\", line 1162, in fit\n",
            "    solver = _check_solver(self.solver, self.penalty, self.dual)\n",
            "  File \"/usr/local/lib/python3.9/dist-packages/sklearn/linear_model/_logistic.py\", line 54, in _check_solver\n",
            "    raise ValueError(\n",
            "ValueError: Solver newton-cholesky supports only 'l2' or 'none' penalties, got l1 penalty.\n",
            "\n",
            "--------------------------------------------------------------------------------\n",
            "50 fits failed with the following error:\n",
            "Traceback (most recent call last):\n",
            "  File \"/usr/local/lib/python3.9/dist-packages/sklearn/model_selection/_validation.py\", line 686, in _fit_and_score\n",
            "    estimator.fit(X_train, y_train, **fit_params)\n",
            "  File \"/usr/local/lib/python3.9/dist-packages/sklearn/linear_model/_logistic.py\", line 1162, in fit\n",
            "    solver = _check_solver(self.solver, self.penalty, self.dual)\n",
            "  File \"/usr/local/lib/python3.9/dist-packages/sklearn/linear_model/_logistic.py\", line 54, in _check_solver\n",
            "    raise ValueError(\n",
            "ValueError: Solver sag supports only 'l2' or 'none' penalties, got l1 penalty.\n",
            "\n",
            "--------------------------------------------------------------------------------\n",
            "50 fits failed with the following error:\n",
            "Traceback (most recent call last):\n",
            "  File \"/usr/local/lib/python3.9/dist-packages/sklearn/model_selection/_validation.py\", line 686, in _fit_and_score\n",
            "    estimator.fit(X_train, y_train, **fit_params)\n",
            "  File \"/usr/local/lib/python3.9/dist-packages/sklearn/linear_model/_logistic.py\", line 1162, in fit\n",
            "    solver = _check_solver(self.solver, self.penalty, self.dual)\n",
            "  File \"/usr/local/lib/python3.9/dist-packages/sklearn/linear_model/_logistic.py\", line 54, in _check_solver\n",
            "    raise ValueError(\n",
            "ValueError: Solver lbfgs supports only 'l2' or 'none' penalties, got elasticnet penalty.\n",
            "\n",
            "--------------------------------------------------------------------------------\n",
            "50 fits failed with the following error:\n",
            "Traceback (most recent call last):\n",
            "  File \"/usr/local/lib/python3.9/dist-packages/sklearn/model_selection/_validation.py\", line 686, in _fit_and_score\n",
            "    estimator.fit(X_train, y_train, **fit_params)\n",
            "  File \"/usr/local/lib/python3.9/dist-packages/sklearn/linear_model/_logistic.py\", line 1162, in fit\n",
            "    solver = _check_solver(self.solver, self.penalty, self.dual)\n",
            "  File \"/usr/local/lib/python3.9/dist-packages/sklearn/linear_model/_logistic.py\", line 64, in _check_solver\n",
            "    raise ValueError(\n",
            "ValueError: Only 'saga' solver supports elasticnet penalty, got solver=liblinear.\n",
            "\n",
            "--------------------------------------------------------------------------------\n",
            "50 fits failed with the following error:\n",
            "Traceback (most recent call last):\n",
            "  File \"/usr/local/lib/python3.9/dist-packages/sklearn/model_selection/_validation.py\", line 686, in _fit_and_score\n",
            "    estimator.fit(X_train, y_train, **fit_params)\n",
            "  File \"/usr/local/lib/python3.9/dist-packages/sklearn/linear_model/_logistic.py\", line 1162, in fit\n",
            "    solver = _check_solver(self.solver, self.penalty, self.dual)\n",
            "  File \"/usr/local/lib/python3.9/dist-packages/sklearn/linear_model/_logistic.py\", line 54, in _check_solver\n",
            "    raise ValueError(\n",
            "ValueError: Solver newton-cg supports only 'l2' or 'none' penalties, got elasticnet penalty.\n",
            "\n",
            "--------------------------------------------------------------------------------\n",
            "50 fits failed with the following error:\n",
            "Traceback (most recent call last):\n",
            "  File \"/usr/local/lib/python3.9/dist-packages/sklearn/model_selection/_validation.py\", line 686, in _fit_and_score\n",
            "    estimator.fit(X_train, y_train, **fit_params)\n",
            "  File \"/usr/local/lib/python3.9/dist-packages/sklearn/linear_model/_logistic.py\", line 1162, in fit\n",
            "    solver = _check_solver(self.solver, self.penalty, self.dual)\n",
            "  File \"/usr/local/lib/python3.9/dist-packages/sklearn/linear_model/_logistic.py\", line 54, in _check_solver\n",
            "    raise ValueError(\n",
            "ValueError: Solver newton-cholesky supports only 'l2' or 'none' penalties, got elasticnet penalty.\n",
            "\n",
            "--------------------------------------------------------------------------------\n",
            "50 fits failed with the following error:\n",
            "Traceback (most recent call last):\n",
            "  File \"/usr/local/lib/python3.9/dist-packages/sklearn/model_selection/_validation.py\", line 686, in _fit_and_score\n",
            "    estimator.fit(X_train, y_train, **fit_params)\n",
            "  File \"/usr/local/lib/python3.9/dist-packages/sklearn/linear_model/_logistic.py\", line 1162, in fit\n",
            "    solver = _check_solver(self.solver, self.penalty, self.dual)\n",
            "  File \"/usr/local/lib/python3.9/dist-packages/sklearn/linear_model/_logistic.py\", line 54, in _check_solver\n",
            "    raise ValueError(\n",
            "ValueError: Solver sag supports only 'l2' or 'none' penalties, got elasticnet penalty.\n",
            "\n",
            "--------------------------------------------------------------------------------\n",
            "50 fits failed with the following error:\n",
            "Traceback (most recent call last):\n",
            "  File \"/usr/local/lib/python3.9/dist-packages/sklearn/model_selection/_validation.py\", line 686, in _fit_and_score\n",
            "    estimator.fit(X_train, y_train, **fit_params)\n",
            "  File \"/usr/local/lib/python3.9/dist-packages/sklearn/linear_model/_logistic.py\", line 1291, in fit\n",
            "    fold_coefs_ = Parallel(n_jobs=self.n_jobs, verbose=self.verbose, prefer=prefer)(\n",
            "  File \"/usr/local/lib/python3.9/dist-packages/sklearn/utils/parallel.py\", line 63, in __call__\n",
            "    return super().__call__(iterable_with_config)\n",
            "  File \"/usr/local/lib/python3.9/dist-packages/joblib/parallel.py\", line 1085, in __call__\n",
            "    if self.dispatch_one_batch(iterator):\n",
            "  File \"/usr/local/lib/python3.9/dist-packages/joblib/parallel.py\", line 901, in dispatch_one_batch\n",
            "    self._dispatch(tasks)\n",
            "  File \"/usr/local/lib/python3.9/dist-packages/joblib/parallel.py\", line 819, in _dispatch\n",
            "    job = self._backend.apply_async(batch, callback=cb)\n",
            "  File \"/usr/local/lib/python3.9/dist-packages/joblib/_parallel_backends.py\", line 208, in apply_async\n",
            "    result = ImmediateResult(func)\n",
            "  File \"/usr/local/lib/python3.9/dist-packages/joblib/_parallel_backends.py\", line 597, in __init__\n",
            "    self.results = batch()\n",
            "  File \"/usr/local/lib/python3.9/dist-packages/joblib/parallel.py\", line 288, in __call__\n",
            "    return [func(*args, **kwargs)\n",
            "  File \"/usr/local/lib/python3.9/dist-packages/joblib/parallel.py\", line 288, in <listcomp>\n",
            "    return [func(*args, **kwargs)\n",
            "  File \"/usr/local/lib/python3.9/dist-packages/sklearn/utils/parallel.py\", line 123, in __call__\n",
            "    return self.function(*args, **kwargs)\n",
            "  File \"/usr/local/lib/python3.9/dist-packages/sklearn/linear_model/_logistic.py\", line 521, in _logistic_regression_path\n",
            "    alpha = (1.0 / C) * (1 - l1_ratio)\n",
            "TypeError: unsupported operand type(s) for -: 'int' and 'NoneType'\n",
            "\n",
            "  warnings.warn(some_fits_failed_message, FitFailedWarning)\n",
            "/usr/local/lib/python3.9/dist-packages/sklearn/model_selection/_search.py:952: UserWarning: One or more of the test scores are non-finite: [       nan 0.92217949        nan        nan        nan 0.91961538\n",
            " 0.94730769 0.92724359 0.94730769 0.94730769 0.91711538 0.91961538\n",
            "        nan        nan        nan        nan        nan        nan\n",
            "        nan 0.94724359        nan        nan        nan 0.91961538\n",
            " 0.94480769 0.94474359 0.94480769 0.94480769 0.91711538 0.91961538\n",
            "        nan        nan        nan        nan        nan        nan\n",
            "        nan 0.95224359        nan        nan        nan 0.91961538\n",
            " 0.94730769 0.94474359 0.94980769 0.94980769 0.91711538 0.91961538\n",
            "        nan        nan        nan        nan        nan        nan\n",
            "        nan 0.95724359        nan        nan        nan 0.91961538\n",
            " 0.95987179 0.94737179 0.95737179 0.95737179 0.91711538 0.91961538\n",
            "        nan        nan        nan        nan        nan        nan\n",
            "        nan 0.95224359        nan        nan        nan 0.91961538\n",
            " 0.95980769 0.95480769 0.95724359 0.95724359 0.91711538 0.91961538\n",
            "        nan        nan        nan        nan        nan        nan]\n",
            "  warnings.warn(\n",
            "/usr/local/lib/python3.9/dist-packages/sklearn/model_selection/_search.py:952: UserWarning: One or more of the train scores are non-finite: [       nan 0.93495433        nan        nan        nan 0.91987753\n",
            " 0.95924122 0.94584274 0.95924122 0.95924122 0.91903954 0.91931965\n",
            "        nan        nan        nan        nan        nan        nan\n",
            "        nan 0.96147352        nan        nan        nan 0.91931965\n",
            " 0.96482314 0.95952055 0.96510169 0.96510169 0.91903954 0.91931965\n",
            "        nan        nan        nan        nan        nan        nan\n",
            "        nan 0.97794541        nan        nan        nan 0.91931965\n",
            " 0.97040584 0.96566035 0.97068517 0.97068517 0.91903954 0.91931965\n",
            "        nan        nan        nan        nan        nan        nan\n",
            "        nan 0.98994802        nan        nan        nan 0.91931965\n",
            " 0.9815728  0.96873065 0.98129348 0.98129348 0.91903954 0.91931965\n",
            "        nan        nan        nan        nan        nan        nan\n",
            "        nan 0.99776536        nan        nan        nan 0.91931965\n",
            " 0.98911159 0.9720826  0.98939092 0.98939092 0.91903954 0.91931965\n",
            "        nan        nan        nan        nan        nan        nan]\n",
            "  warnings.warn(\n"
          ]
        },
        {
          "output_type": "stream",
          "name": "stdout",
          "text": [
            "{'C': 100, 'penalty': 'l2', 'solver': 'lbfgs'}\n",
            "LogisticRegression(C=100, max_iter=100000)\n",
            "[1 0 1 0 0 0 0 0 1 1 1 0 0 1 1 1 1 1 1 0 1 1 0 1 0 1 1 0 0 0 0 1 0 0 1 1 0\n",
            " 1 0 1 1 1 1 1 1 0 1 1 1 0 0 0 1 1 1 1 1 0 1 1 1 0 1 1 1 1 1 0 1 1 1 1 1 0\n",
            " 1 0 1 1 1 0 1 0 1 0 1 1 0 1 0 1 1 0 1 1 0 0 1 1 1 1 1 1 1 1 1 1 1 1 0 0 0\n",
            " 0 1 1 0 0 1 1 1 1 1 0 0 1 1 0 0 0 0 0 1 1 1 0 1 0 0 1 1 0 0 0 1 0 1 0 1 1\n",
            " 1 0 1 1 1 0 1 1 1 1 1 1 1 1 1 0 1 1 0 0 0 1 1]\n",
            "0.959871794871795\n",
            "Accuracy: 0.9649122807017544\n",
            "Precision: 0.9623015873015872\n",
            "Recall: 0.9623015873015872\n",
            "F1: 0.9623015873015872\n"
          ]
        }
      ]
    },
    {
      "cell_type": "markdown",
      "source": [
        "*   2.4. Apply **GridSearchCV** to **RandomForest** "
      ],
      "metadata": {
        "id": "3NjSLo5jB1xY"
      }
    },
    {
      "cell_type": "code",
      "source": [
        "#code\n",
        "param_grid = {\n",
        "    'n_estimators': [25, 50, 100, 150],\n",
        "    'max_features': ['sqrt', 'log2', None],\n",
        "    'max_depth': [3, 6, 9],\n",
        "    'max_leaf_nodes': [3, 6, 9],\n",
        "}\n",
        "RF=['RandomForest']\n",
        "clf= RandomForestClassifier()\n",
        "gs_CV=GridSearchCV(estimator=clf, param_grid=param_grid,scoring='accuracy', n_jobs=-1, refit=True, return_train_score=True, cv= 10)\n",
        "gs_CV.fit(X_train, y_train)\n",
        "y_predict=gs_CV.predict(x_test)\n",
        "print(gs_CV.best_params_)\n",
        "print(gs_CV.best_estimator_)\n",
        "print(y_predict)\n",
        "print(gs_CV.best_score_)\n",
        "ac = m.accuracy_score(y_test, y_predict)\n",
        "ps = m.precision_score(y_test, y_predict, average='macro')\n",
        "rs = m.recall_score(y_test, y_predict, average='macro')\n",
        "fs = m.f1_score(y_test, y_predict, average='macro')\n",
        "RF.append(str(round(ac,2)))\n",
        "RF.append(str(round(ps,2)))\n",
        "RF.append(str(round(rs,2)))\n",
        "RF.append(str(round(fs,2)))\n",
        "RF.append(str(round(gs_CV.best_score_,2)))\n",
        "print('Accuracy:',ac)\n",
        "print('Precision:',ps)\n",
        "print('Recall:',rs)\n",
        "print('F1:',fs)"
      ],
      "metadata": {
        "id": "nktGtM0PB7XB",
        "colab": {
          "base_uri": "https://localhost:8080/"
        },
        "outputId": "70f0ac35-36a7-4be6-d952-58f3fe09fc1e"
      },
      "execution_count": null,
      "outputs": [
        {
          "output_type": "stream",
          "name": "stdout",
          "text": [
            "{'max_depth': 9, 'max_features': None, 'max_leaf_nodes': 9, 'n_estimators': 150}\n",
            "RandomForestClassifier(max_depth=9, max_features=None, max_leaf_nodes=9,\n",
            "                       n_estimators=150)\n",
            "[1 0 1 0 0 0 0 0 1 1 1 0 0 1 1 1 1 1 1 0 1 1 0 1 0 1 1 0 0 0 0 1 0 0 1 1 0\n",
            " 1 1 1 1 1 1 1 1 0 1 1 1 0 0 0 1 1 1 1 1 0 1 1 1 0 1 1 1 1 1 0 1 1 1 1 1 0\n",
            " 1 0 1 1 1 0 1 0 1 0 1 1 0 1 0 1 1 0 1 1 0 0 1 1 1 1 1 1 1 1 1 1 1 1 0 0 0\n",
            " 1 1 1 0 0 1 1 1 1 1 0 0 1 1 0 0 0 0 0 1 1 1 0 1 0 0 1 1 0 0 0 1 0 0 0 1 1\n",
            " 1 0 1 1 1 1 1 1 1 1 1 1 1 1 1 0 1 1 0 0 0 1 1]\n",
            "0.9599358974358975\n",
            "Accuracy: 0.9532163742690059\n",
            "Precision: 0.952682563338301\n",
            "Recall: 0.9464285714285714\n",
            "F1: 0.9493933116306599\n"
          ]
        }
      ]
    },
    {
      "cell_type": "markdown",
      "source": [
        "*   2.5. Compare the best obtained results among classification algorithms (use PrettyTable to dispaly the results) "
      ],
      "metadata": {
        "id": "NZJ3BSHpB9Dx"
      }
    },
    {
      "cell_type": "code",
      "source": [
        "#code\n",
        "t = PrettyTable([' ', 'Acc', 'Pre', 'Recall', 'F1','GridSearchCVBestScore'])\n",
        "t.add_row(SVM)\n",
        "t.add_row(KNN)\n",
        "t.add_row(LR)\n",
        "t.add_row(RF)\n",
        "print(t)\n",
        "print(m.classification_report(y_test, y_predict))"
      ],
      "metadata": {
        "id": "8LS_IYfNCFEj",
        "colab": {
          "base_uri": "https://localhost:8080/"
        },
        "outputId": "bfd34da1-52e5-4a33-bd3d-eff5416fb520"
      },
      "execution_count": null,
      "outputs": [
        {
          "output_type": "stream",
          "name": "stdout",
          "text": [
            "+--------------------+------+------+--------+------+-----------------------+\n",
            "|                    | Acc  | Pre  | Recall |  F1  | GridSearchCVBestScore |\n",
            "+--------------------+------+------+--------+------+-----------------------+\n",
            "|        svm         | 0.95 | 0.95 |  0.95  | 0.95 |          0.95         |\n",
            "|        KNN         | 0.94 | 0.94 |  0.92  | 0.93 |          0.94         |\n",
            "| LogisticRegression | 0.94 | 0.93 |  0.93  | 0.93 |          0.94         |\n",
            "|    RandomForest    | 0.95 | 0.95 |  0.95  | 0.95 |          0.96         |\n",
            "+--------------------+------+------+--------+------+-----------------------+\n",
            "              precision    recall  f1-score   support\n",
            "\n",
            "           0       0.95      0.92      0.94        63\n",
            "           1       0.95      0.97      0.96       108\n",
            "\n",
            "    accuracy                           0.95       171\n",
            "   macro avg       0.95      0.95      0.95       171\n",
            "weighted avg       0.95      0.95      0.95       171\n",
            "\n"
          ]
        }
      ]
    },
    {
      "cell_type": "markdown",
      "source": [
        "#Task 3. \n",
        "The dataset consists of **2000 user-created movie reviews** archived on the IMDb(Internet Movie Database). The reviews are equally partitioned into a positive set and a negative set (1000+1000). Each review consists of a plain text file (.txt) and a class label representing the overall user opinion. \n",
        "The class attribute has only two values: **pos** (positive) or **neg** (negative).\n"
      ],
      "metadata": {
        "id": "b52OPWPD2afi"
      }
    },
    {
      "cell_type": "markdown",
      "source": [
        "*   3.1 Importing additional libraries"
      ],
      "metadata": {
        "id": "lDcxOQRmDz_h"
      }
    },
    {
      "cell_type": "code",
      "source": [
        "import nltk, random\n",
        "nltk.download('movie_reviews')#download movie reviews dataset\n",
        "from nltk.corpus import movie_reviews\n",
        "import pandas as pd\n",
        "import matplotlib.pyplot as plt\n",
        "import numpy as np\n",
        "from sklearn.model_selection import cross_val_score\n",
        "from collections import Counter\n",
        "from sklearn.model_selection import train_test_split"
      ],
      "metadata": {
        "id": "ZjyW06skDwvL",
        "colab": {
          "base_uri": "https://localhost:8080/"
        },
        "outputId": "11ac042a-52d6-444c-c3ee-69f279561150"
      },
      "execution_count": 5,
      "outputs": [
        {
          "output_type": "stream",
          "name": "stderr",
          "text": [
            "[nltk_data] Downloading package movie_reviews to /root/nltk_data...\n",
            "[nltk_data]   Package movie_reviews is already up-to-date!\n"
          ]
        }
      ]
    },
    {
      "cell_type": "markdown",
      "source": [
        "*   3.2. Movie reviews information"
      ],
      "metadata": {
        "id": "RJpsTIiyv-1h"
      }
    },
    {
      "cell_type": "code",
      "source": [
        "#code\n",
        "print(len(movie_reviews.fileids()))\n",
        "print(movie_reviews.categories())\n",
        "print(movie_reviews.words()[:100])\n",
        "print(movie_reviews.fileids()[:10])"
      ],
      "metadata": {
        "id": "5ZE7A0Au1Pg0",
        "colab": {
          "base_uri": "https://localhost:8080/"
        },
        "outputId": "d711732b-937b-4850-d1ee-0e8b49c38c04"
      },
      "execution_count": 6,
      "outputs": [
        {
          "output_type": "stream",
          "name": "stdout",
          "text": [
            "2000\n",
            "['neg', 'pos']\n",
            "['plot', ':', 'two', 'teen', 'couples', 'go', 'to', ...]\n",
            "['neg/cv000_29416.txt', 'neg/cv001_19502.txt', 'neg/cv002_17424.txt', 'neg/cv003_12683.txt', 'neg/cv004_12641.txt', 'neg/cv005_29357.txt', 'neg/cv006_17022.txt', 'neg/cv007_4992.txt', 'neg/cv008_29326.txt', 'neg/cv009_29417.txt']\n"
          ]
        }
      ]
    },
    {
      "cell_type": "markdown",
      "source": [
        "*   3.3. Create dataset from movie reviews"
      ],
      "metadata": {
        "id": "6pHmMpqMHS23"
      }
    },
    {
      "cell_type": "code",
      "source": [
        "documents = [(list(movie_reviews.words(fileid)), category)\n",
        "             for category in movie_reviews.categories()\n",
        "             for fileid in movie_reviews.fileids(category)]\n",
        "random.seed(123)\n",
        "random.shuffle(documents)"
      ],
      "metadata": {
        "id": "45aY6woMHSH5"
      },
      "execution_count": 7,
      "outputs": []
    },
    {
      "cell_type": "code",
      "source": [
        "print('Number of Reviews/Documents: {}'.format(len(documents)))\n",
        "print('Corpus Size (words): {}'.format(np.sum([len(d) for (d,l) in documents])))\n",
        "print('Sample Text of Doc 1:')\n",
        "print('-'*30)\n",
        "print(' '.join(documents[0][0][:50])) # first 50 words of the first document"
      ],
      "metadata": {
        "id": "NNke0Da5HqFa",
        "colab": {
          "base_uri": "https://localhost:8080/"
        },
        "outputId": "df20fd70-209f-4af0-b2c4-b3e6754b4bd0"
      },
      "execution_count": 8,
      "outputs": [
        {
          "output_type": "stream",
          "name": "stdout",
          "text": [
            "Number of Reviews/Documents: 2000\n",
            "Corpus Size (words): 1583820\n",
            "Sample Text of Doc 1:\n",
            "------------------------------\n",
            "most movies seem to release a third movie just so it can be called a trilogy . rocky iii seems to kind of fit in that category , but manages to be slightly unique . the rocky formula of \" rocky loses fight / rocky trains / rocky wins fight\n"
          ]
        }
      ]
    },
    {
      "cell_type": "code",
      "source": [
        "sentiment_distr = Counter([label for (words, label) in documents])\n",
        "print(sentiment_distr)"
      ],
      "metadata": {
        "id": "vVFUEhnXHsGd",
        "colab": {
          "base_uri": "https://localhost:8080/"
        },
        "outputId": "466ce4ca-1884-48ba-8465-3bef368ffd0b"
      },
      "execution_count": 10,
      "outputs": [
        {
          "output_type": "stream",
          "name": "stdout",
          "text": [
            "Counter({'pos': 1000, 'neg': 1000})\n"
          ]
        }
      ]
    },
    {
      "cell_type": "markdown",
      "source": [
        "*   3.4. Train test split"
      ],
      "metadata": {
        "id": "jTXiEbMzHgVC"
      }
    },
    {
      "cell_type": "code",
      "source": [
        "train, test = train_test_split(documents,train_size = 0.1, test_size = 0.03, random_state=42)"
      ],
      "metadata": {
        "id": "v_-0gZZFHvJN"
      },
      "execution_count": 23,
      "outputs": []
    },
    {
      "cell_type": "code",
      "source": [
        "## Sentiment Distrubtion for Train and Test\n",
        "print(Counter([label for (words, label) in train]))\n",
        "print(Counter([label for (words, label) in test]))"
      ],
      "metadata": {
        "id": "UUGlm5TGHvpV",
        "colab": {
          "base_uri": "https://localhost:8080/"
        },
        "outputId": "e6eb6155-8259-4039-a040-b1b69905f311"
      },
      "execution_count": 24,
      "outputs": [
        {
          "output_type": "stream",
          "name": "stdout",
          "text": [
            "Counter({'pos': 101, 'neg': 99})\n",
            "Counter({'neg': 34, 'pos': 26})\n"
          ]
        }
      ]
    },
    {
      "cell_type": "code",
      "source": [
        "X_train = [' '.join(words) for (words, label) in train]\n",
        "X_test = [' '.join(words) for (words, label) in test]\n",
        "y_train = [label for (words, label) in train]\n",
        "y_test = [label for (words, label) in test]"
      ],
      "metadata": {
        "id": "l1ppl_0RHx1P"
      },
      "execution_count": 25,
      "outputs": []
    },
    {
      "cell_type": "markdown",
      "source": [
        "*   3.5. Text Vectorization"
      ],
      "metadata": {
        "id": "7xUaXrjxH6Ee"
      }
    },
    {
      "cell_type": "code",
      "source": [
        "from sklearn.feature_extraction.text import CountVectorizer, TfidfVectorizer\n",
        "\n",
        "tfidf_vec = TfidfVectorizer(min_df = 10, token_pattern = r'[a-zA-Z]+')\n",
        "X_train_bow = tfidf_vec.fit_transform(X_train) # fit train\n",
        "X_test_bow = tfidf_vec.transform(X_test) # transform test"
      ],
      "metadata": {
        "id": "fzwM0nsIH-8l"
      },
      "execution_count": 26,
      "outputs": []
    },
    {
      "cell_type": "code",
      "source": [
        "#code\n",
        "SVM= ['svm']\n",
        "param_grid = {'C': [0.1, 1, 10, 100, 1000],\n",
        "              'gamma': [1, 0.1, 0.01, 0.001, 0.0001],\n",
        "              'kernel': ['rbf','linear']}\n",
        "clf= svm.SVC()\n",
        "# scoring=['accuracy', 'f1_macro']\n",
        "gs_CV=GridSearchCV(estimator=clf, param_grid=param_grid,scoring='precision_macro', n_jobs=-1, refit=True, return_train_score=True, cv= 10)\n",
        "gs_CV.fit(X_train_bow, y_train)\n",
        "y_predict=gs_CV.predict(X_test_bow)\n",
        "print(gs_CV.best_params_)\n",
        "print(gs_CV.best_estimator_)\n",
        "print(y_predict)\n",
        "print(gs_CV.best_score_)\n",
        "ac = m.accuracy_score(y_test, y_predict)\n",
        "ps = m.precision_score(y_test, y_predict, average='macro')\n",
        "rs = m.recall_score(y_test, y_predict, average='macro')\n",
        "fs = m.f1_score(y_test, y_predict, average='macro')\n",
        "SVM.append(str(round(ac,2)))\n",
        "SVM.append(str(round(ps,2)))\n",
        "SVM.append(str(round(rs,2)))\n",
        "SVM.append(str(round(fs,2)))\n",
        "SVM.append(str(round(gs_CV.best_score_,2)))\n",
        "print('Accuracy:',ac)\n",
        "print('Precision:',ps)\n",
        "print('Recall:',rs)\n",
        "print('F1:',fs)\n"
      ],
      "metadata": {
        "id": "b3FHQqh1Hlrd",
        "colab": {
          "base_uri": "https://localhost:8080/"
        },
        "outputId": "b46feebb-e1a4-4460-cbea-a31a88b3d397"
      },
      "execution_count": 27,
      "outputs": [
        {
          "output_type": "stream",
          "name": "stdout",
          "text": [
            "{'C': 10, 'gamma': 1, 'kernel': 'linear'}\n",
            "SVC(C=10, gamma=1, kernel='linear')\n",
            "['pos' 'neg' 'pos' 'neg' 'neg' 'neg' 'neg' 'neg' 'neg' 'pos' 'neg' 'neg'\n",
            " 'pos' 'neg' 'pos' 'neg' 'neg' 'pos' 'pos' 'pos' 'pos' 'neg' 'neg' 'pos'\n",
            " 'neg' 'neg' 'pos' 'neg' 'pos' 'pos' 'pos' 'pos' 'pos' 'neg' 'pos' 'pos'\n",
            " 'pos' 'neg' 'neg' 'neg' 'neg' 'neg' 'neg' 'pos' 'pos' 'pos' 'pos' 'neg'\n",
            " 'pos' 'pos' 'pos' 'pos' 'pos' 'neg' 'pos' 'neg' 'pos' 'pos' 'neg' 'neg']\n",
            "0.7799912587412587\n",
            "Accuracy: 0.75\n",
            "Precision: 0.7525027808676307\n",
            "Recall: 0.7567873303167421\n",
            "F1: 0.7493734335839599\n"
          ]
        }
      ]
    },
    {
      "cell_type": "markdown",
      "source": [
        "*   3.7. Apply **RandomForest** with **GridSearchCV** "
      ],
      "metadata": {
        "id": "N1Fy8jYBIdxi"
      }
    },
    {
      "cell_type": "code",
      "source": [
        "#code\n",
        "param_grid = {\n",
        "    'n_estimators': [25, 50, 100, 150],\n",
        "    'max_features': ['sqrt', 'log2', None],\n",
        "    'max_depth': [3, 6, 9],\n",
        "    'max_leaf_nodes': [3, 6, 9],\n",
        "}\n",
        "RF=['RandomForest']\n",
        "clf= RandomForestClassifier()\n",
        "gs_CV=GridSearchCV(estimator=clf, param_grid=param_grid,scoring='accuracy', n_jobs=-1, refit=True, return_train_score=True, cv= 10)\n",
        "gs_CV.fit(X_train_bow, y_train)\n",
        "y_predict=gs_CV.predict(X_test_bow)\n",
        "print(gs_CV.best_params_)\n",
        "print(gs_CV.best_estimator_)\n",
        "print(y_predict)\n",
        "print(gs_CV.best_score_)\n",
        "ac = m.accuracy_score(y_test, y_predict)\n",
        "ps = m.precision_score(y_test, y_predict, average='macro')\n",
        "rs = m.recall_score(y_test, y_predict, average='macro')\n",
        "fs = m.f1_score(y_test, y_predict, average='macro')\n",
        "RF.append(str(round(ac,2)))\n",
        "RF.append(str(round(ps,2)))\n",
        "RF.append(str(round(rs,2)))\n",
        "RF.append(str(round(fs,2)))\n",
        "RF.append(str(round(gs_CV.best_score_,2)))\n",
        "print('Accuracy:',ac)\n",
        "print('Precision:',ps)\n",
        "print('Recall:',rs)\n",
        "print('F1:',fs)"
      ],
      "metadata": {
        "id": "Fyfw2R-gIhWl",
        "colab": {
          "base_uri": "https://localhost:8080/"
        },
        "outputId": "e972581e-5818-4806-b6ce-290c37e0ac24"
      },
      "execution_count": 28,
      "outputs": [
        {
          "output_type": "stream",
          "name": "stdout",
          "text": [
            "{'max_depth': 9, 'max_features': 'sqrt', 'max_leaf_nodes': 6, 'n_estimators': 150}\n",
            "RandomForestClassifier(max_depth=9, max_leaf_nodes=6, n_estimators=150)\n",
            "['pos' 'neg' 'neg' 'neg' 'neg' 'neg' 'neg' 'neg' 'neg' 'pos' 'pos' 'neg'\n",
            " 'neg' 'neg' 'pos' 'neg' 'pos' 'pos' 'pos' 'neg' 'neg' 'neg' 'neg' 'pos'\n",
            " 'neg' 'neg' 'pos' 'neg' 'pos' 'neg' 'pos' 'neg' 'neg' 'neg' 'pos' 'pos'\n",
            " 'neg' 'pos' 'neg' 'neg' 'neg' 'neg' 'neg' 'pos' 'pos' 'neg' 'neg' 'neg'\n",
            " 'neg' 'pos' 'pos' 'pos' 'pos' 'pos' 'pos' 'neg' 'neg' 'pos' 'pos' 'neg']\n",
            "0.785\n",
            "Accuracy: 0.6666666666666666\n",
            "Precision: 0.6597222222222222\n",
            "Recall: 0.6561085972850679\n",
            "F1: 0.6571428571428573\n"
          ]
        }
      ]
    },
    {
      "cell_type": "markdown",
      "source": [
        "*   3.8. Apply **kNN** with **GridSearchCV** "
      ],
      "metadata": {
        "id": "_btsVKjIIiLT"
      }
    },
    {
      "cell_type": "code",
      "source": [
        "#code\n",
        "grid_params = { 'n_neighbors' : range(1, 101,10),\n",
        "               'weights' : ['uniform','distance'],\n",
        "               'metric' : ['minkowski','euclidean','manhattan']}\n",
        "clf= knc()\n",
        "KNN=['KNN']\n",
        "gs_CV=GridSearchCV(estimator=clf, param_grid=grid_params,scoring='accuracy', n_jobs=-1, refit=True, return_train_score=True, cv= 10)\n",
        "gs_CV.fit(X_train_bow, y_train)\n",
        "y_predict=gs_CV.predict(X_test_bow)\n",
        "print(gs_CV.best_params_)\n",
        "print(gs_CV.best_estimator_)\n",
        "print(y_predict)\n",
        "print(gs_CV.best_score_)\n",
        "ac = m.accuracy_score(y_test, y_predict)\n",
        "ps = m.precision_score(y_test, y_predict, average='macro')\n",
        "rs = m.recall_score(y_test, y_predict, average='macro')\n",
        "fs = m.f1_score(y_test, y_predict, average='macro')\n",
        "KNN.append(str(round(ac,2)))\n",
        "KNN.append(str(round(ps,2)))\n",
        "KNN.append(str(round(rs,2)))\n",
        "KNN.append(str(round(fs,2)))\n",
        "KNN.append(str(round(gs_CV.best_score_,2)))\n",
        "print('Accuracy:',ac)\n",
        "print('Precision:',ps)\n",
        "print('Recall:',rs)\n",
        "print('F1:',fs)"
      ],
      "metadata": {
        "id": "IZmFu1ZQImhn",
        "colab": {
          "base_uri": "https://localhost:8080/"
        },
        "outputId": "f0329d5e-9305-4b17-bd88-ced83311ec96"
      },
      "execution_count": 29,
      "outputs": [
        {
          "output_type": "stream",
          "name": "stdout",
          "text": [
            "{'metric': 'manhattan', 'n_neighbors': 10, 'weights': 'distance'}\n",
            "KNeighborsClassifier(metric='manhattan', n_neighbors=10, weights='distance')\n",
            "['neg' 'pos' 'pos' 'neg' 'neg' 'neg' 'pos' 'pos' 'neg' 'neg' 'neg' 'neg'\n",
            " 'neg' 'neg' 'pos' 'neg' 'neg' 'pos' 'pos' 'pos' 'neg' 'neg' 'pos' 'pos'\n",
            " 'neg' 'neg' 'pos' 'neg' 'neg' 'neg' 'pos' 'neg' 'pos' 'pos' 'pos' 'pos'\n",
            " 'neg' 'neg' 'neg' 'neg' 'neg' 'neg' 'pos' 'pos' 'pos' 'pos' 'neg' 'neg'\n",
            " 'pos' 'neg' 'pos' 'neg' 'pos' 'pos' 'pos' 'pos' 'neg' 'pos' 'pos' 'neg']\n",
            "0.6499999999999999\n",
            "Accuracy: 0.5333333333333333\n",
            "Precision: 0.5290178571428572\n",
            "Recall: 0.5294117647058824\n",
            "F1: 0.5286195286195285\n"
          ]
        },
        {
          "output_type": "stream",
          "name": "stderr",
          "text": [
            "/usr/local/lib/python3.9/dist-packages/sklearn/model_selection/_search.py:952: UserWarning: One or more of the test scores are non-finite: [0.6   0.585   nan   nan   nan   nan   nan   nan   nan   nan   nan   nan\n",
            "   nan   nan   nan   nan   nan   nan   nan   nan   nan   nan   nan   nan\n",
            "   nan   nan   nan   nan   nan   nan   nan   nan   nan   nan   nan   nan\n",
            " 0.6   0.585   nan   nan   nan   nan   nan   nan   nan   nan   nan   nan\n",
            "   nan   nan   nan   nan   nan   nan   nan   nan   nan   nan   nan   nan\n",
            "   nan   nan   nan   nan   nan   nan   nan   nan   nan   nan   nan   nan\n",
            " 0.63  0.65    nan   nan   nan   nan   nan   nan   nan   nan   nan   nan\n",
            "   nan   nan   nan   nan   nan   nan   nan   nan   nan   nan   nan   nan\n",
            "   nan   nan   nan   nan   nan   nan   nan   nan   nan   nan   nan   nan]\n",
            "  warnings.warn(\n",
            "/usr/local/lib/python3.9/dist-packages/sklearn/model_selection/_search.py:952: UserWarning: One or more of the train scores are non-finite: [0.74055556 1.                nan        nan        nan        nan\n",
            "        nan        nan        nan        nan        nan        nan\n",
            "        nan        nan        nan        nan        nan        nan\n",
            "        nan        nan        nan        nan        nan        nan\n",
            "        nan        nan        nan        nan        nan        nan\n",
            "        nan        nan        nan        nan        nan        nan\n",
            " 0.74055556 1.                nan        nan        nan        nan\n",
            "        nan        nan        nan        nan        nan        nan\n",
            "        nan        nan        nan        nan        nan        nan\n",
            "        nan        nan        nan        nan        nan        nan\n",
            "        nan        nan        nan        nan        nan        nan\n",
            "        nan        nan        nan        nan        nan        nan\n",
            " 0.75722222 1.                nan        nan        nan        nan\n",
            "        nan        nan        nan        nan        nan        nan\n",
            "        nan        nan        nan        nan        nan        nan\n",
            "        nan        nan        nan        nan        nan        nan\n",
            "        nan        nan        nan        nan        nan        nan\n",
            "        nan        nan        nan        nan        nan        nan]\n",
            "  warnings.warn(\n"
          ]
        }
      ]
    },
    {
      "cell_type": "markdown",
      "source": [
        "*   3.9. Apply **LogisticRegression** with **GridSearchCV** "
      ],
      "metadata": {
        "id": "0Ix_HeVGIvDu"
      }
    },
    {
      "cell_type": "code",
      "source": [
        "#code\n",
        "param_grid = {'C': [0.1, 1, 10, 100, 1000],\n",
        "              'solver' : ['lbfgs', 'liblinear', 'newton-cg', 'newton-cholesky', 'sag', 'saga'],\n",
        "              'penalty' : ['l1', 'l2', 'elasticnet' ]}\n",
        "LR=['LogisticRegression']\n",
        "clf= LogisticRegression(max_iter=100000)\n",
        "gs_CV=GridSearchCV(estimator=clf, param_grid=param_grid,scoring='accuracy', n_jobs=-1, refit=True, return_train_score=True, cv= 10)\n",
        "gs_CV.fit(X_train_bow, y_train)\n",
        "y_predict=gs_CV.predict(X_test_bow)\n",
        "print(gs_CV.best_params_)\n",
        "print(gs_CV.best_estimator_)\n",
        "print(y_predict)\n",
        "print(gs_CV.best_score_)\n",
        "ac = m.accuracy_score(y_test, y_predict)\n",
        "ps = m.precision_score(y_test, y_predict, average='macro')\n",
        "rs = m.recall_score(y_test, y_predict, average='macro')\n",
        "fs = m.f1_score(y_test, y_predict, average='macro')\n",
        "LR.append(str(round(ac,2)))\n",
        "LR.append(str(round(ps,2)))\n",
        "LR.append(str(round(rs,2)))\n",
        "LR.append(str(round(fs,2)))\n",
        "LR.append(str(round(gs_CV.best_score_,2)))\n",
        "print('Accuracy:',ac)\n",
        "print('Precision:',ps)\n",
        "print('Recall:',rs)\n",
        "print('F1:',fs)"
      ],
      "metadata": {
        "id": "sTd3alCMIr-i",
        "colab": {
          "base_uri": "https://localhost:8080/"
        },
        "outputId": "7477acd7-a7c5-4cb4-cc6e-75f6b3bc85bd"
      },
      "execution_count": 35,
      "outputs": [
        {
          "output_type": "stream",
          "name": "stdout",
          "text": [
            "{'C': 100, 'penalty': 'l2', 'solver': 'saga'}\n",
            "LogisticRegression(C=100, max_iter=100000, solver='saga')\n",
            "['pos' 'neg' 'pos' 'neg' 'neg' 'neg' 'neg' 'neg' 'neg' 'pos' 'neg' 'neg'\n",
            " 'pos' 'neg' 'pos' 'neg' 'neg' 'pos' 'pos' 'pos' 'pos' 'neg' 'neg' 'pos'\n",
            " 'neg' 'neg' 'pos' 'neg' 'pos' 'pos' 'pos' 'pos' 'pos' 'pos' 'pos' 'pos'\n",
            " 'pos' 'neg' 'neg' 'neg' 'neg' 'neg' 'neg' 'pos' 'pos' 'pos' 'neg' 'neg'\n",
            " 'pos' 'pos' 'pos' 'pos' 'pos' 'neg' 'pos' 'neg' 'pos' 'pos' 'pos' 'neg']\n",
            "0.765\n",
            "Accuracy: 0.7\n",
            "Precision: 0.7053571428571428\n",
            "Recall: 0.7081447963800905\n",
            "F1: 0.6996662958843158\n"
          ]
        },
        {
          "output_type": "stream",
          "name": "stderr",
          "text": [
            "/usr/local/lib/python3.9/dist-packages/sklearn/model_selection/_validation.py:378: FitFailedWarning: \n",
            "500 fits failed out of a total of 900.\n",
            "The score on these train-test partitions for these parameters will be set to nan.\n",
            "If these failures are not expected, you can try to debug them by setting error_score='raise'.\n",
            "\n",
            "Below are more details about the failures:\n",
            "--------------------------------------------------------------------------------\n",
            "50 fits failed with the following error:\n",
            "Traceback (most recent call last):\n",
            "  File \"/usr/local/lib/python3.9/dist-packages/sklearn/model_selection/_validation.py\", line 686, in _fit_and_score\n",
            "    estimator.fit(X_train, y_train, **fit_params)\n",
            "  File \"/usr/local/lib/python3.9/dist-packages/sklearn/linear_model/_logistic.py\", line 1162, in fit\n",
            "    solver = _check_solver(self.solver, self.penalty, self.dual)\n",
            "  File \"/usr/local/lib/python3.9/dist-packages/sklearn/linear_model/_logistic.py\", line 54, in _check_solver\n",
            "    raise ValueError(\n",
            "ValueError: Solver lbfgs supports only 'l2' or 'none' penalties, got l1 penalty.\n",
            "\n",
            "--------------------------------------------------------------------------------\n",
            "50 fits failed with the following error:\n",
            "Traceback (most recent call last):\n",
            "  File \"/usr/local/lib/python3.9/dist-packages/sklearn/model_selection/_validation.py\", line 686, in _fit_and_score\n",
            "    estimator.fit(X_train, y_train, **fit_params)\n",
            "  File \"/usr/local/lib/python3.9/dist-packages/sklearn/linear_model/_logistic.py\", line 1162, in fit\n",
            "    solver = _check_solver(self.solver, self.penalty, self.dual)\n",
            "  File \"/usr/local/lib/python3.9/dist-packages/sklearn/linear_model/_logistic.py\", line 54, in _check_solver\n",
            "    raise ValueError(\n",
            "ValueError: Solver newton-cg supports only 'l2' or 'none' penalties, got l1 penalty.\n",
            "\n",
            "--------------------------------------------------------------------------------\n",
            "50 fits failed with the following error:\n",
            "Traceback (most recent call last):\n",
            "  File \"/usr/local/lib/python3.9/dist-packages/sklearn/model_selection/_validation.py\", line 686, in _fit_and_score\n",
            "    estimator.fit(X_train, y_train, **fit_params)\n",
            "  File \"/usr/local/lib/python3.9/dist-packages/sklearn/linear_model/_logistic.py\", line 1162, in fit\n",
            "    solver = _check_solver(self.solver, self.penalty, self.dual)\n",
            "  File \"/usr/local/lib/python3.9/dist-packages/sklearn/linear_model/_logistic.py\", line 54, in _check_solver\n",
            "    raise ValueError(\n",
            "ValueError: Solver newton-cholesky supports only 'l2' or 'none' penalties, got l1 penalty.\n",
            "\n",
            "--------------------------------------------------------------------------------\n",
            "50 fits failed with the following error:\n",
            "Traceback (most recent call last):\n",
            "  File \"/usr/local/lib/python3.9/dist-packages/sklearn/model_selection/_validation.py\", line 686, in _fit_and_score\n",
            "    estimator.fit(X_train, y_train, **fit_params)\n",
            "  File \"/usr/local/lib/python3.9/dist-packages/sklearn/linear_model/_logistic.py\", line 1162, in fit\n",
            "    solver = _check_solver(self.solver, self.penalty, self.dual)\n",
            "  File \"/usr/local/lib/python3.9/dist-packages/sklearn/linear_model/_logistic.py\", line 54, in _check_solver\n",
            "    raise ValueError(\n",
            "ValueError: Solver sag supports only 'l2' or 'none' penalties, got l1 penalty.\n",
            "\n",
            "--------------------------------------------------------------------------------\n",
            "50 fits failed with the following error:\n",
            "Traceback (most recent call last):\n",
            "  File \"/usr/local/lib/python3.9/dist-packages/sklearn/model_selection/_validation.py\", line 686, in _fit_and_score\n",
            "    estimator.fit(X_train, y_train, **fit_params)\n",
            "  File \"/usr/local/lib/python3.9/dist-packages/sklearn/linear_model/_logistic.py\", line 1162, in fit\n",
            "    solver = _check_solver(self.solver, self.penalty, self.dual)\n",
            "  File \"/usr/local/lib/python3.9/dist-packages/sklearn/linear_model/_logistic.py\", line 54, in _check_solver\n",
            "    raise ValueError(\n",
            "ValueError: Solver lbfgs supports only 'l2' or 'none' penalties, got elasticnet penalty.\n",
            "\n",
            "--------------------------------------------------------------------------------\n",
            "50 fits failed with the following error:\n",
            "Traceback (most recent call last):\n",
            "  File \"/usr/local/lib/python3.9/dist-packages/sklearn/model_selection/_validation.py\", line 686, in _fit_and_score\n",
            "    estimator.fit(X_train, y_train, **fit_params)\n",
            "  File \"/usr/local/lib/python3.9/dist-packages/sklearn/linear_model/_logistic.py\", line 1162, in fit\n",
            "    solver = _check_solver(self.solver, self.penalty, self.dual)\n",
            "  File \"/usr/local/lib/python3.9/dist-packages/sklearn/linear_model/_logistic.py\", line 64, in _check_solver\n",
            "    raise ValueError(\n",
            "ValueError: Only 'saga' solver supports elasticnet penalty, got solver=liblinear.\n",
            "\n",
            "--------------------------------------------------------------------------------\n",
            "50 fits failed with the following error:\n",
            "Traceback (most recent call last):\n",
            "  File \"/usr/local/lib/python3.9/dist-packages/sklearn/model_selection/_validation.py\", line 686, in _fit_and_score\n",
            "    estimator.fit(X_train, y_train, **fit_params)\n",
            "  File \"/usr/local/lib/python3.9/dist-packages/sklearn/linear_model/_logistic.py\", line 1162, in fit\n",
            "    solver = _check_solver(self.solver, self.penalty, self.dual)\n",
            "  File \"/usr/local/lib/python3.9/dist-packages/sklearn/linear_model/_logistic.py\", line 54, in _check_solver\n",
            "    raise ValueError(\n",
            "ValueError: Solver newton-cg supports only 'l2' or 'none' penalties, got elasticnet penalty.\n",
            "\n",
            "--------------------------------------------------------------------------------\n",
            "50 fits failed with the following error:\n",
            "Traceback (most recent call last):\n",
            "  File \"/usr/local/lib/python3.9/dist-packages/sklearn/model_selection/_validation.py\", line 686, in _fit_and_score\n",
            "    estimator.fit(X_train, y_train, **fit_params)\n",
            "  File \"/usr/local/lib/python3.9/dist-packages/sklearn/linear_model/_logistic.py\", line 1162, in fit\n",
            "    solver = _check_solver(self.solver, self.penalty, self.dual)\n",
            "  File \"/usr/local/lib/python3.9/dist-packages/sklearn/linear_model/_logistic.py\", line 54, in _check_solver\n",
            "    raise ValueError(\n",
            "ValueError: Solver newton-cholesky supports only 'l2' or 'none' penalties, got elasticnet penalty.\n",
            "\n",
            "--------------------------------------------------------------------------------\n",
            "50 fits failed with the following error:\n",
            "Traceback (most recent call last):\n",
            "  File \"/usr/local/lib/python3.9/dist-packages/sklearn/model_selection/_validation.py\", line 686, in _fit_and_score\n",
            "    estimator.fit(X_train, y_train, **fit_params)\n",
            "  File \"/usr/local/lib/python3.9/dist-packages/sklearn/linear_model/_logistic.py\", line 1162, in fit\n",
            "    solver = _check_solver(self.solver, self.penalty, self.dual)\n",
            "  File \"/usr/local/lib/python3.9/dist-packages/sklearn/linear_model/_logistic.py\", line 54, in _check_solver\n",
            "    raise ValueError(\n",
            "ValueError: Solver sag supports only 'l2' or 'none' penalties, got elasticnet penalty.\n",
            "\n",
            "--------------------------------------------------------------------------------\n",
            "50 fits failed with the following error:\n",
            "Traceback (most recent call last):\n",
            "  File \"/usr/local/lib/python3.9/dist-packages/sklearn/model_selection/_validation.py\", line 686, in _fit_and_score\n",
            "    estimator.fit(X_train, y_train, **fit_params)\n",
            "  File \"/usr/local/lib/python3.9/dist-packages/sklearn/linear_model/_logistic.py\", line 1291, in fit\n",
            "    fold_coefs_ = Parallel(n_jobs=self.n_jobs, verbose=self.verbose, prefer=prefer)(\n",
            "  File \"/usr/local/lib/python3.9/dist-packages/sklearn/utils/parallel.py\", line 63, in __call__\n",
            "    return super().__call__(iterable_with_config)\n",
            "  File \"/usr/local/lib/python3.9/dist-packages/joblib/parallel.py\", line 1085, in __call__\n",
            "    if self.dispatch_one_batch(iterator):\n",
            "  File \"/usr/local/lib/python3.9/dist-packages/joblib/parallel.py\", line 901, in dispatch_one_batch\n",
            "    self._dispatch(tasks)\n",
            "  File \"/usr/local/lib/python3.9/dist-packages/joblib/parallel.py\", line 819, in _dispatch\n",
            "    job = self._backend.apply_async(batch, callback=cb)\n",
            "  File \"/usr/local/lib/python3.9/dist-packages/joblib/_parallel_backends.py\", line 208, in apply_async\n",
            "    result = ImmediateResult(func)\n",
            "  File \"/usr/local/lib/python3.9/dist-packages/joblib/_parallel_backends.py\", line 597, in __init__\n",
            "    self.results = batch()\n",
            "  File \"/usr/local/lib/python3.9/dist-packages/joblib/parallel.py\", line 288, in __call__\n",
            "    return [func(*args, **kwargs)\n",
            "  File \"/usr/local/lib/python3.9/dist-packages/joblib/parallel.py\", line 288, in <listcomp>\n",
            "    return [func(*args, **kwargs)\n",
            "  File \"/usr/local/lib/python3.9/dist-packages/sklearn/utils/parallel.py\", line 123, in __call__\n",
            "    return self.function(*args, **kwargs)\n",
            "  File \"/usr/local/lib/python3.9/dist-packages/sklearn/linear_model/_logistic.py\", line 521, in _logistic_regression_path\n",
            "    alpha = (1.0 / C) * (1 - l1_ratio)\n",
            "TypeError: unsupported operand type(s) for -: 'int' and 'NoneType'\n",
            "\n",
            "  warnings.warn(some_fits_failed_message, FitFailedWarning)\n",
            "/usr/local/lib/python3.9/dist-packages/sklearn/model_selection/_search.py:952: UserWarning: One or more of the test scores are non-finite: [  nan 0.495   nan   nan   nan 0.495 0.685 0.65  0.685 0.685 0.685 0.675\n",
            "   nan   nan   nan   nan   nan   nan   nan 0.61    nan   nan   nan 0.575\n",
            " 0.715 0.715 0.715 0.715 0.715 0.715   nan   nan   nan   nan   nan   nan\n",
            "   nan 0.71    nan   nan   nan 0.71  0.755 0.755 0.755 0.755 0.755 0.755\n",
            "   nan   nan   nan   nan   nan   nan   nan 0.71    nan   nan   nan 0.75\n",
            " 0.76  0.765 0.76  0.76  0.76  0.765   nan   nan   nan   nan   nan   nan\n",
            "   nan 0.67    nan   nan   nan 0.765 0.755 0.765 0.755 0.755 0.755 0.755\n",
            "   nan   nan   nan   nan   nan   nan]\n",
            "  warnings.warn(\n",
            "/usr/local/lib/python3.9/dist-packages/sklearn/model_selection/_search.py:952: UserWarning: One or more of the train scores are non-finite: [       nan 0.495             nan        nan        nan 0.50055556\n",
            " 0.81666667 0.79333333 0.81666667 0.81666667 0.81666667 0.815\n",
            "        nan        nan        nan        nan        nan        nan\n",
            "        nan 0.64944444        nan        nan        nan 0.65666667\n",
            " 0.93222222 0.93388889 0.93222222 0.93222222 0.93222222 0.93222222\n",
            "        nan        nan        nan        nan        nan        nan\n",
            "        nan 0.99222222        nan        nan        nan 0.99166667\n",
            " 1.         1.         1.         1.         1.         1.\n",
            "        nan        nan        nan        nan        nan        nan\n",
            "        nan 1.                nan        nan        nan 1.\n",
            " 1.         1.         1.         1.         1.         1.\n",
            "        nan        nan        nan        nan        nan        nan\n",
            "        nan 1.                nan        nan        nan 1.\n",
            " 1.         1.         1.         1.         1.         1.\n",
            "        nan        nan        nan        nan        nan        nan]\n",
            "  warnings.warn(\n"
          ]
        }
      ]
    },
    {
      "cell_type": "markdown",
      "source": [
        "*   3.10. Compare the best obtained results among classification algorithms (use PrettyTable to dispaly the results) "
      ],
      "metadata": {
        "id": "nhYF2y6eI058"
      }
    },
    {
      "cell_type": "code",
      "source": [
        "t = PrettyTable([' ', 'Acc', 'Pre', 'Recall', 'F1','GridSearchCVBestScore'])\n",
        "t.add_row(SVM)\n",
        "t.add_row(KNN)\n",
        "t.add_row(LR)\n",
        "t.add_row(RF)\n",
        "print(t)\n",
        "print(m.classification_report(y_test, y_predict))"
      ],
      "metadata": {
        "colab": {
          "base_uri": "https://localhost:8080/"
        },
        "id": "oAtcKkBRQ-o7",
        "outputId": "14ffaaa8-9ef7-4c99-c968-e3832b6f1177"
      },
      "execution_count": 36,
      "outputs": [
        {
          "output_type": "stream",
          "name": "stdout",
          "text": [
            "+--------------------+------+------+--------+------+-----------------------+\n",
            "|                    | Acc  | Pre  | Recall |  F1  | GridSearchCVBestScore |\n",
            "+--------------------+------+------+--------+------+-----------------------+\n",
            "|        svm         | 0.75 | 0.75 |  0.76  | 0.75 |          0.78         |\n",
            "|        KNN         | 0.53 | 0.53 |  0.53  | 0.53 |          0.65         |\n",
            "| LogisticRegression | 0.7  | 0.71 |  0.71  | 0.7  |          0.76         |\n",
            "|    RandomForest    | 0.65 | 0.64 |  0.64  | 0.64 |          0.78         |\n",
            "+--------------------+------+------+--------+------+-----------------------+\n",
            "              precision    recall  f1-score   support\n",
            "\n",
            "         neg       0.79      0.65      0.71        34\n",
            "         pos       0.62      0.77      0.69        26\n",
            "\n",
            "    accuracy                           0.70        60\n",
            "   macro avg       0.71      0.71      0.70        60\n",
            "weighted avg       0.72      0.70      0.70        60\n",
            "\n"
          ]
        }
      ]
    },
    {
      "cell_type": "markdown",
      "source": [
        "#Finally,\n",
        "Save a copy in your Github. Remember renaming the notebook."
      ],
      "metadata": {
        "id": "Ok7RGkea_b7n"
      }
    }
  ]
}